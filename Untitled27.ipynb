{
 "cells": [
  {
   "cell_type": "markdown",
   "id": "a01acbdc",
   "metadata": {},
   "source": [
    "1. Write a function to compute 5/0 and use try/except to catch the exceptions."
   ]
  },
  {
   "cell_type": "code",
   "execution_count": 6,
   "id": "a117470a",
   "metadata": {},
   "outputs": [],
   "source": [
    "def dibyzero():\n",
    "    try:\n",
    "        a=int(input(\"enter a input\"))\n",
    "        a/0\n",
    "    except ZeroDivisionError as e:\n",
    "        print(e)\n",
    "    \n",
    "  \n",
    "         "
   ]
  },
  {
   "cell_type": "markdown",
   "id": "69e767f9",
   "metadata": {},
   "source": [
    " 2. Implement a Python program to generate all sentences where subject is in\n",
    "[\"Americans\", \"Indians\"] and verb is in [\"Play\", \"watch\"] and the object is in\n",
    "[\"Baseball\",\"cricket\"].\n",
    "Hint: Subject,Verb and Object should be declared in the program as shown below.   \n",
    "     \n",
    "               \n",
    "    "
   ]
  },
  {
   "cell_type": "code",
   "execution_count": 8,
   "id": "b924244f",
   "metadata": {},
   "outputs": [],
   "source": [
    "\n",
    "a=[\"Americans\", \"Indians\"]\n",
    "b=[\"Play\", \"watch\"]\n",
    "c=[\"Baseball\",\"cricket\"]\n"
   ]
  },
  {
   "cell_type": "code",
   "execution_count": 78,
   "id": "b36a8a60",
   "metadata": {},
   "outputs": [],
   "source": [
    "def generat(a,b,c):\n",
    "    d=len(a)\n",
    "    \n",
    "    \n",
    "    for i in range(d):\n",
    "        for j in range(d):\n",
    "            for k in range(d):\n",
    "\n",
    "                \n",
    "                print(\"{} {} {}\".format(a[i],b[j],c[k]))          "
   ]
  },
  {
   "cell_type": "code",
   "execution_count": 79,
   "id": "a4da1c08",
   "metadata": {},
   "outputs": [
    {
     "name": "stdout",
     "output_type": "stream",
     "text": [
      "Americans Play Baseball\n",
      "Americans Play cricket\n",
      "Americans watch Baseball\n",
      "Americans watch cricket\n",
      "Indians Play Baseball\n",
      "Indians Play cricket\n",
      "Indians watch Baseball\n",
      "Indians watch cricket\n"
     ]
    }
   ],
   "source": [
    "generat(a,b,c)\n"
   ]
  },
  {
   "cell_type": "code",
   "execution_count": null,
   "id": "fc39e167",
   "metadata": {},
   "outputs": [],
   "source": []
  },
  {
   "cell_type": "code",
   "execution_count": null,
   "id": "7a1eed14",
   "metadata": {},
   "outputs": [],
   "source": []
  },
  {
   "cell_type": "code",
   "execution_count": null,
   "id": "edd6a2f8",
   "metadata": {},
   "outputs": [],
   "source": []
  },
  {
   "cell_type": "code",
   "execution_count": null,
   "id": "aa54534f",
   "metadata": {},
   "outputs": [],
   "source": []
  },
  {
   "cell_type": "code",
   "execution_count": null,
   "id": "cdb942f2",
   "metadata": {},
   "outputs": [],
   "source": []
  },
  {
   "cell_type": "code",
   "execution_count": null,
   "id": "3b41451f",
   "metadata": {},
   "outputs": [],
   "source": []
  },
  {
   "cell_type": "code",
   "execution_count": null,
   "id": "d0b5cd5d",
   "metadata": {},
   "outputs": [],
   "source": []
  }
 ],
 "metadata": {
  "kernelspec": {
   "display_name": "Python 3 (ipykernel)",
   "language": "python",
   "name": "python3"
  },
  "language_info": {
   "codemirror_mode": {
    "name": "ipython",
    "version": 3
   },
   "file_extension": ".py",
   "mimetype": "text/x-python",
   "name": "python",
   "nbconvert_exporter": "python",
   "pygments_lexer": "ipython3",
   "version": "3.7.3"
  }
 },
 "nbformat": 4,
 "nbformat_minor": 5
}
